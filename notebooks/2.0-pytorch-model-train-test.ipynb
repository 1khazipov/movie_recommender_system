{
 "cells": [
  {
   "cell_type": "code",
   "execution_count": 1,
   "metadata": {},
   "outputs": [],
   "source": [
    "import torch\n",
    "import torch.nn as nn\n",
    "import torch.optim as optim\n",
    "from torch.utils.data import DataLoader, Dataset\n",
    "from sklearn.model_selection import train_test_split\n",
    "from sklearn.preprocessing import LabelEncoder\n",
    "import pandas as pd\n",
    "from tqdm import tqdm"
   ]
  },
  {
   "cell_type": "code",
   "execution_count": 2,
   "metadata": {},
   "outputs": [],
   "source": [
    "dataset = pd.read_csv('../data/interim/dataset.csv')\n",
    "dataset = dataset.drop(columns=['timestamp'])\n",
    "\n",
    "user_encoder = LabelEncoder()\n",
    "item_encoder = LabelEncoder()\n",
    "\n",
    "dataset['user_id'] = user_encoder.fit_transform(dataset['user_id'])\n",
    "dataset['item_id'] = item_encoder.fit_transform(dataset['item_id'])"
   ]
  },
  {
   "cell_type": "code",
   "execution_count": 3,
   "metadata": {},
   "outputs": [
    {
     "name": "stderr",
     "output_type": "stream",
     "text": [
      "100%|██████████| 10/10 [01:07<00:00,  6.76s/it, Epoch=10, loss=3.66e-5]\n"
     ]
    },
    {
     "name": "stdout",
     "output_type": "stream",
     "text": [
      "Test Loss: 7.42944810311309e-05\n"
     ]
    }
   ],
   "source": [
    "class RecommenderDataset(Dataset):\n",
    "    def __init__(self, dataframe):\n",
    "        self.data = dataframe.values\n",
    "        self.columns = dataframe.columns\n",
    "\n",
    "    def __len__(self):\n",
    "        return len(self.data)\n",
    "\n",
    "    def __getitem__(self, index):\n",
    "        return torch.tensor(self.data[index], dtype=torch.float32)\n",
    "\n",
    "class EmbeddingRecommenderModel(nn.Module):\n",
    "    def __init__(self, user_size, item_size, embedding_size=64):\n",
    "        super(EmbeddingRecommenderModel, self).__init__()\n",
    "        self.user_embedding = nn.Embedding(user_size, embedding_size)\n",
    "        self.item_embedding = nn.Embedding(item_size, embedding_size)\n",
    "        self.fc1 = nn.Linear(embedding_size * 2, 128)\n",
    "        self.bn1 = nn.BatchNorm1d(128)\n",
    "        self.relu1 = nn.ReLU()\n",
    "        self.fc2 = nn.Linear(128, 64)\n",
    "        self.bn2 = nn.BatchNorm1d(64)\n",
    "        self.relu2 = nn.ReLU()\n",
    "        self.fc3 = nn.Linear(64, 32)\n",
    "        self.relu3 = nn.ReLU()\n",
    "        self.fc4 = nn.Linear(32, 1)\n",
    "\n",
    "    def forward(self, user_id, item_id):\n",
    "        user_embed = self.user_embedding(user_id)\n",
    "        item_embed = self.item_embedding(item_id)\n",
    "        x = torch.cat([user_embed, item_embed], dim=1)\n",
    "        x = self.relu1(self.bn1(self.fc1(x)))\n",
    "        x = self.relu2(self.bn2(self.fc2(x)))\n",
    "        x = self.relu3(self.fc3(x))\n",
    "        x = self.fc4(x)\n",
    "        return x\n",
    "\n",
    "class RecommenderSystem:\n",
    "    def __init__(self, dataframe, batch_size=64, lr=0.001, epochs=10):\n",
    "        self.device = torch.device(\"cuda\" if torch.cuda.is_available() else \"cpu\")\n",
    "        user_size = dataframe['user_id'].nunique()\n",
    "        item_size = dataframe['item_id'].nunique()\n",
    "        self.model = EmbeddingRecommenderModel(user_size, item_size).to(self.device)\n",
    "        self.criterion = nn.MSELoss()\n",
    "        self.optimizer = optim.Adam(self.model.parameters(), lr=lr)\n",
    "        self.batch_size = batch_size\n",
    "        self.epochs = epochs\n",
    "        self.dataset = dataframe\n",
    "        train_data, test_data = train_test_split(dataframe, test_size=0.2, random_state=42)\n",
    "        self.train_dataset = RecommenderDataset(train_data)\n",
    "        self.test_dataset = RecommenderDataset(test_data)\n",
    "\n",
    "    def train(self):\n",
    "        train_loader = DataLoader(self.train_dataset, batch_size=self.batch_size, shuffle=True)\n",
    "\n",
    "        loop = tqdm(range(self.epochs))\n",
    "        for epoch in loop:\n",
    "            self.model.train()\n",
    "            running_loss = 0.0\n",
    "\n",
    "            for batch in train_loader:\n",
    "                batch = batch.to(self.device)\n",
    "                inputs, targets = batch[:, :-1], batch[:, -1]\n",
    "                user_ids = inputs[:, 0].long()\n",
    "                item_ids = inputs[:, 1].long()\n",
    "                self.optimizer.zero_grad()\n",
    "                outputs = self.model(user_ids, item_ids)\n",
    "                loss =  self.criterion(outputs.squeeze(), targets)\n",
    "                loss.backward()\n",
    "                self.optimizer.step()\n",
    "\n",
    "                running_loss += loss.item()\n",
    "\n",
    "            loop.set_postfix({'Epoch': epoch + 1, 'loss': running_loss / len(train_loader)})\n",
    "\n",
    "    def evaluate(self):\n",
    "        test_loader = DataLoader(self.test_dataset, batch_size=self.batch_size, shuffle=False)\n",
    "        self.model.eval()\n",
    "        total_loss = 0.0\n",
    "\n",
    "        with torch.no_grad():\n",
    "            for batch in test_loader:\n",
    "                batch = batch.to(self.device)\n",
    "                user_ids = batch[:, 0].long()\n",
    "                item_ids = batch[:, 1].long()\n",
    "                outputs = self.model(user_ids, item_ids)\n",
    "                loss = self.criterion(outputs, batch[:, -1:])\n",
    "                total_loss += loss.item()\n",
    "\n",
    "        print(f\"Test Loss: {total_loss / len(test_loader)}\")\n",
    "    \n",
    "    def predict_top_k(self, user_id, top_k=5):\n",
    "        self.model.eval()\n",
    "        \n",
    "        all_item_ids = torch.arange(self.model.item_embedding.num_embeddings, device=self.device)\n",
    "        user_ids = torch.full((len(all_item_ids),), user_id, dtype=torch.long, device=self.device)\n",
    "        \n",
    "        with torch.no_grad():\n",
    "            scores = self.model(user_ids, all_item_ids)\n",
    "        \n",
    "        watched = self.dataset[self.dataset['user_id'] == user_id]['item_id'].values.tolist()\n",
    "        unwatched_item_ids = torch.tensor(list(set(all_item_ids.tolist()) - set(watched)), device=self.device)\n",
    "        unwatched_scores = scores[unwatched_item_ids]\n",
    "        _, indices = torch.topk(unwatched_scores.view(-1), top_k)\n",
    "        top_k_items = unwatched_item_ids[indices].cpu().numpy().tolist()\n",
    "        \n",
    "        return top_k_items\n",
    "\n",
    "\n",
    "recommender_system = RecommenderSystem(dataset)\n",
    "recommender_system.train()\n",
    "recommender_system.evaluate()"
   ]
  },
  {
   "cell_type": "code",
   "execution_count": 19,
   "metadata": {},
   "outputs": [
    {
     "data": {
      "text/plain": [
       "[890, 1018, 230, 1290, 1166]"
      ]
     },
     "execution_count": 19,
     "metadata": {},
     "output_type": "execute_result"
    }
   ],
   "source": [
    "recommender_system.predict_top_k(125)"
   ]
  },
  {
   "cell_type": "code",
   "execution_count": null,
   "metadata": {},
   "outputs": [],
   "source": []
  }
 ],
 "metadata": {
  "kernelspec": {
   "display_name": "base",
   "language": "python",
   "name": "python3"
  },
  "language_info": {
   "codemirror_mode": {
    "name": "ipython",
    "version": 3
   },
   "file_extension": ".py",
   "mimetype": "text/x-python",
   "name": "python",
   "nbconvert_exporter": "python",
   "pygments_lexer": "ipython3",
   "version": "3.9.12"
  }
 },
 "nbformat": 4,
 "nbformat_minor": 2
}
